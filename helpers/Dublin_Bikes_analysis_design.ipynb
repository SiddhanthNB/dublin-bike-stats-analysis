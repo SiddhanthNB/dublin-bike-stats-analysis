{
  "nbformat": 4,
  "nbformat_minor": 0,
  "metadata": {
    "colab": {
      "private_outputs": true,
      "provenance": []
    },
    "kernelspec": {
      "name": "python3",
      "display_name": "Python 3"
    },
    "language_info": {
      "name": "python"
    }
  },
  "cells": [
    {
      "cell_type": "markdown",
      "source": [
        "# Section 1: Initial Analysis Design\n",
        "\n",
        "## Research Question\n",
        "\n",
        "**What factors affect the availability of bikes at DublinBikes stations over time and across locations in Dublin city?**\n",
        "\n",
        "## Theory & Motivation\n",
        "\n",
        "Bike-sharing systems are influenced by both temporal and spatial dynamics. We expect that the number of available bikes at a station fluctuates based on:\n",
        "- **Time of day** (commute vs. non-commute hours),\n",
        "- **Day of the week** (weekday vs. weekend),\n",
        "- **Station location** (central vs. residential),\n",
        "- **Station size** (number of stands).\n",
        "\n",
        "This project aims to explore whether these factors are significantly associated with the number of available bikes at a given time.\n",
        "\n",
        "## Variables Overview\n",
        "\n",
        "| Role                 | Variable                  | Type         | Description                                     |\n",
        "|----------------------|---------------------------|--------------|-------------------------------------------------|\n",
        "| Dependent Variable   | `AVAILABLE BIKES`         | Numeric      | Number of bikes available at the station        |\n",
        "| Independent Variable | `TIME`                    | Categorical  | Will be parsed to extract hour, day of week     |\n",
        "| Independent Variable | `NAME` / `STATION ID`     | Categorical  | Represents station location                     |\n",
        "| Independent Variable | `BIKE STANDS`             | Numeric      | Total capacity of the station                   |\n",
        "| Derived Variable     | `DAY TYPE` (Weekday/Weekend) | Categorical  | Based on day of the week                        |\n",
        "\n",
        "We will create new features from the `TIME` column such as:\n",
        "- Hour of the day\n",
        "- Day of the week\n",
        "- A binary \"Weekend\" flag\n",
        "\n",
        "## Hypotheses\n",
        "\n",
        "1. **H1: Time of day affects bike availability.**  \n",
        "   We expect bike availability to drop during morning and evening rush hours.\n",
        "\n",
        "2. **H2: Bike availability differs between weekdays and weekends.**  \n",
        "   Weekend patterns may differ from weekday commuting behavior.\n",
        "\n",
        "3. **H3: Stations with more stands tend to have more available bikes.**  \n",
        "   Larger stations may be more heavily stocked.\n",
        "\n",
        "4. **H4: Average bike availability significantly differs between stations.**  \n",
        "   Central vs. suburban station usage may vary.\n",
        "\n",
        "5. **H5: There is an interaction between day type and time of day.**  \n",
        "   Demand patterns by hour might vary between weekdays and weekends.\n"
      ],
      "metadata": {
        "id": "iJ7w-TWN3Giu"
      }
    }
  ]
}