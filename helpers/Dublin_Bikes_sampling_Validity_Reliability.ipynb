{
  "nbformat": 4,
  "nbformat_minor": 0,
  "metadata": {
    "colab": {
      "private_outputs": true,
      "provenance": []
    },
    "kernelspec": {
      "name": "python3",
      "display_name": "Python 3"
    },
    "language_info": {
      "name": "python"
    }
  },
  "cells": [
    {
      "cell_type": "markdown",
      "source": [
        "# **Sampling, Validity & Reliability**"
      ],
      "metadata": {
        "id": "qhwqyvTjDSTL"
      }
    },
    {
      "cell_type": "markdown",
      "source": [
        "\n",
        "\n",
        "## Sampling Method\n",
        "\n",
        "The data for this project comes from the **Smart Dublin DublinBikes API**, captured over the period **01 January 2018 to 01 January 2022**. The dataset includes time-stamped snapshots of every bike station's status approximately every 5 minutes.\n",
        "\n",
        "Each row represents a real-time update from a given station, recording:\n",
        "- The number of **available bikes** and **bike stands**\n",
        "- The **timestamp** of the observation\n",
        "- **Station location** (name, address, latitude/longitude)\n",
        "\n",
        "This can be considered **systematic time-based sampling** — although not random, the data provides high-frequency temporal snapshots across all stations, which gives strong coverage of variation throughout the day and week.\n",
        "\n",
        "## Validity of Analysis\n",
        "\n",
        "The dataset appears to capture genuine operational data from Dublin’s city-wide bike-sharing system. Since this data reflects real conditions, the conclusions drawn are expected to:\n",
        "- Be **valid within the observed date range** (January 2018– January 2022)\n",
        "- Accurately represent **bike availability patterns**\n",
        "- Reflect true **spatial and temporal variation** across stations\n",
        "\n",
        "However, the analysis is limited to a **3-Years period**, which may not generalize to other seasons or years.\n",
        "\n",
        "## Reliability of Data\n",
        "\n",
        "The source of the data — a public API maintained by Dublin City Council — is considered reliable. The repeated sampling frequency (~5-minute intervals) adds robustness and allows for trend and pattern detection.\n",
        "\n",
        "There are a few caveats:\n",
        "- Some stations may have missing or inconsistent records.\n",
        "- Short downtimes or missing updates might introduce minor gaps.\n",
        "\n",
        "These will be handled during data cleaning to ensure that they do not significantly bias the results.\n",
        "\n",
        "## Analytical Assumptions\n",
        "\n",
        "To ensure reliability of the statistical analysis:\n",
        "- Assumption checks (normality, variance homogeneity, outliers) will be performed before applying parametric tests.\n",
        "- Non-parametric tests will be used where assumptions are violated.\n",
        "- Random sub-sampling or aggregation may be used to reduce redundancy and bias from high-frequency temporal data.\n"
      ],
      "metadata": {
        "id": "3t7nE6obDVgn"
      }
    }
  ]
}