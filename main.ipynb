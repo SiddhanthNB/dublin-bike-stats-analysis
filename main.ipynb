{
  "cells": [
    {
      "cell_type": "markdown",
      "metadata": {
        "id": "1MNDaKGC9MdG"
      },
      "source": [
        "# **A Statistical Analysis of DublinBikes Usage Patterns:**\n",
        "\n",
        "### **A Human-Centered Exploration of Temporal, Spatial, and Behavioral Factors**\n"
      ]
    },
    {
      "cell_type": "markdown",
      "metadata": {
        "id": "tP2_zgpu9MdJ"
      },
      "source": [
        "### **Table of Contents**\n",
        "\n",
        "1. [Analysis Design & Hypotheses](helpers/Dublin_Bikes_analysis_design.ipynb)\n",
        "2. [Sampling, Validity & Reliability](helpers/Dublin_Bikes_sampling_Validity_Reliability.ipynb)\n",
        "3. [Data Description & Preparation](helpers/Dublin_Bikes_data_description_visualization.ipynb)\n",
        "4. [Assumptions & Relationship Tests](helpers/Dublin_Bikes_relationship_tests_Bootstrap.ipynb)\n",
        "   - Assumption checks for each test\n",
        "   - Test 1: Hour of Day → Availability\n",
        "   - Test 2: Weekday vs Weekend\n",
        "   - Test 3: Station Size Correlation\n",
        "   - Test 4: Station Differences\n",
        "   - Test 5: Hour × Weekend (Factorial ANOVA)\n",
        "5. [Bayesian Reanalysis & Conclusion](helpers/Dublin_Bikes_bayesian_conclusion.ipynb)\n",
        "   - Test 2 (t-test)\n",
        "   - Test 3 (correlation)\n"
      ]
    },
    {
      "cell_type": "markdown",
      "metadata": {
        "id": "k_uCKIeq9MdK"
      },
      "source": [
        "### **References**\n",
        "Field, A. (2018). *Discovering Statistics Using IBM SPSS Statistics* (5th ed.). Sage Publications [URL](http://repo.darmajaya.ac.id/5678/1/Discovering%20Statistics%20Using%20IBM%20SPSS%20Statistics%20(%20PDFDrive%20).pdf)\n",
        "\n",
        "Kruschke, J. K. (2014). *Doing Bayesian Data Analysis: A Tutorial with R, JAGS, and Stan* (2nd ed.). Academic Press.[URL](https://www.uvm.edu/~bbeckage/Teaching/PBIO_294/Kruschke-DoingBayesian2ndEd-Figures.pdf)\n",
        "\n",
        "Vallat, R. (2018). *Pingouin: statistics in Python*. *Journal of Open Source Software, 3*(31), 1026. [URL](https://doi.org/10.21105/joss.01026)\n"
      ]
    }
  ],
  "metadata": {
    "colab": {
      "provenance": []
    },
    "kernelspec": {
      "display_name": "Python 3 (ipykernel)",
      "language": "python",
      "name": "python3"
    },
    "language_info": {
      "codemirror_mode": {
        "name": "ipython",
        "version": 3
      },
      "file_extension": ".py",
      "mimetype": "text/x-python",
      "name": "python",
      "nbconvert_exporter": "python",
      "pygments_lexer": "ipython3",
      "version": "3.10.11"
    }
  },
  "nbformat": 4,
  "nbformat_minor": 0
}
